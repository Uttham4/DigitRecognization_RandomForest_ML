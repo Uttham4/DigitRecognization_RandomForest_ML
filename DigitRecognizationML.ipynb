{
  "nbformat": 4,
  "nbformat_minor": 0,
  "metadata": {
    "colab": {
      "provenance": []
    },
    "kernelspec": {
      "name": "python3",
      "display_name": "Python 3"
    },
    "language_info": {
      "name": "python"
    }
  },
  "cells": [
    {
      "cell_type": "code",
      "execution_count": 1,
      "metadata": {
        "id": "FT8AIaczcy21"
      },
      "outputs": [],
      "source": [
        "\n",
        "import pandas as pd\n",
        "import numpy as np"
      ]
    },
    {
      "cell_type": "code",
      "source": [
        "from google.colab import drive\n",
        "drive.mount('/content/gdrive')"
      ],
      "metadata": {
        "colab": {
          "base_uri": "https://localhost:8080/"
        },
        "id": "kviYZRhSdGIG",
        "outputId": "1cd43082-2b7c-485a-b30e-e9022494eb67"
      },
      "execution_count": 2,
      "outputs": [
        {
          "output_type": "stream",
          "name": "stdout",
          "text": [
            "Mounted at /content/gdrive\n"
          ]
        }
      ]
    },
    {
      "cell_type": "code",
      "source": [
        "fileName = \"digit.csv\"\n",
        "dataset = pd.read_csv(fileName)"
      ],
      "metadata": {
        "id": "pJ-kB-AZdXH9"
      },
      "execution_count": 21,
      "outputs": []
    },
    {
      "cell_type": "code",
      "source": [
        "\n",
        "print(dataset.shape)\n",
        "print(dataset.head(5))"
      ],
      "metadata": {
        "colab": {
          "base_uri": "https://localhost:8080/"
        },
        "id": "OKwoFkQsdi47",
        "outputId": "8b58107e-b6c3-4a0a-a46b-4e9a37f10dd1"
      },
      "execution_count": 22,
      "outputs": [
        {
          "output_type": "stream",
          "name": "stdout",
          "text": [
            "(42000, 785)\n",
            "   label  pixel0  pixel1  pixel2  pixel3  pixel4  pixel5  pixel6  pixel7  \\\n",
            "0      1       0       0       0       0       0       0       0       0   \n",
            "1      0       0       0       0       0       0       0       0       0   \n",
            "2      1       0       0       0       0       0       0       0       0   \n",
            "3      4       0       0       0       0       0       0       0       0   \n",
            "4      0       0       0       0       0       0       0       0       0   \n",
            "\n",
            "   pixel8  ...  pixel774  pixel775  pixel776  pixel777  pixel778  pixel779  \\\n",
            "0       0  ...         0         0         0         0         0         0   \n",
            "1       0  ...         0         0         0         0         0         0   \n",
            "2       0  ...         0         0         0         0         0         0   \n",
            "3       0  ...         0         0         0         0         0         0   \n",
            "4       0  ...         0         0         0         0         0         0   \n",
            "\n",
            "   pixel780  pixel781  pixel782  pixel783  \n",
            "0         0         0         0         0  \n",
            "1         0         0         0         0  \n",
            "2         0         0         0         0  \n",
            "3         0         0         0         0  \n",
            "4         0         0         0         0  \n",
            "\n",
            "[5 rows x 785 columns]\n"
          ]
        }
      ]
    },
    {
      "cell_type": "code",
      "source": [
        "np.any(np.isnan(dataset))\n",
        "np.all(np.isfinite(dataset))\n"
      ],
      "metadata": {
        "colab": {
          "base_uri": "https://localhost:8080/"
        },
        "id": "4vYVl_q_gVQI",
        "outputId": "96d32840-ce51-4701-a34d-7c7f09bd0c20"
      },
      "execution_count": 23,
      "outputs": [
        {
          "output_type": "execute_result",
          "data": {
            "text/plain": [
              "True"
            ]
          },
          "metadata": {},
          "execution_count": 23
        }
      ]
    },
    {
      "cell_type": "code",
      "source": [
        "X = dataset.iloc[:,1:]\n",
        "print(X)\n",
        "print(X.shape)\n",
        "\n",
        "Y = dataset.iloc[:,0]\n",
        "print(Y)\n",
        "print(Y.shape)"
      ],
      "metadata": {
        "colab": {
          "base_uri": "https://localhost:8080/"
        },
        "id": "tfORFEyVds9c",
        "outputId": "4cbd3c60-17f4-4c23-dc3a-b7e0a0c6ce1b"
      },
      "execution_count": 24,
      "outputs": [
        {
          "output_type": "stream",
          "name": "stdout",
          "text": [
            "       pixel0  pixel1  pixel2  pixel3  pixel4  pixel5  pixel6  pixel7  pixel8  \\\n",
            "0           0       0       0       0       0       0       0       0       0   \n",
            "1           0       0       0       0       0       0       0       0       0   \n",
            "2           0       0       0       0       0       0       0       0       0   \n",
            "3           0       0       0       0       0       0       0       0       0   \n",
            "4           0       0       0       0       0       0       0       0       0   \n",
            "...       ...     ...     ...     ...     ...     ...     ...     ...     ...   \n",
            "41995       0       0       0       0       0       0       0       0       0   \n",
            "41996       0       0       0       0       0       0       0       0       0   \n",
            "41997       0       0       0       0       0       0       0       0       0   \n",
            "41998       0       0       0       0       0       0       0       0       0   \n",
            "41999       0       0       0       0       0       0       0       0       0   \n",
            "\n",
            "       pixel9  ...  pixel774  pixel775  pixel776  pixel777  pixel778  \\\n",
            "0           0  ...         0         0         0         0         0   \n",
            "1           0  ...         0         0         0         0         0   \n",
            "2           0  ...         0         0         0         0         0   \n",
            "3           0  ...         0         0         0         0         0   \n",
            "4           0  ...         0         0         0         0         0   \n",
            "...       ...  ...       ...       ...       ...       ...       ...   \n",
            "41995       0  ...         0         0         0         0         0   \n",
            "41996       0  ...         0         0         0         0         0   \n",
            "41997       0  ...         0         0         0         0         0   \n",
            "41998       0  ...         0         0         0         0         0   \n",
            "41999       0  ...         0         0         0         0         0   \n",
            "\n",
            "       pixel779  pixel780  pixel781  pixel782  pixel783  \n",
            "0             0         0         0         0         0  \n",
            "1             0         0         0         0         0  \n",
            "2             0         0         0         0         0  \n",
            "3             0         0         0         0         0  \n",
            "4             0         0         0         0         0  \n",
            "...         ...       ...       ...       ...       ...  \n",
            "41995         0         0         0         0         0  \n",
            "41996         0         0         0         0         0  \n",
            "41997         0         0         0         0         0  \n",
            "41998         0         0         0         0         0  \n",
            "41999         0         0         0         0         0  \n",
            "\n",
            "[42000 rows x 784 columns]\n",
            "(42000, 784)\n",
            "0        1\n",
            "1        0\n",
            "2        1\n",
            "3        4\n",
            "4        0\n",
            "        ..\n",
            "41995    0\n",
            "41996    1\n",
            "41997    7\n",
            "41998    6\n",
            "41999    9\n",
            "Name: label, Length: 42000, dtype: int64\n",
            "(42000,)\n"
          ]
        }
      ]
    },
    {
      "cell_type": "code",
      "source": [
        "from sklearn.model_selection import train_test_split\n",
        "X_train, X_test, y_train, y_test = train_test_split(X, Y, test_size = 0.25, random_state = 0)"
      ],
      "metadata": {
        "id": "DiZhRBo3dxBa"
      },
      "execution_count": 25,
      "outputs": []
    },
    {
      "cell_type": "code",
      "source": [
        "from sklearn.ensemble import RandomForestClassifier\n",
        "model = RandomForestClassifier()\n",
        "model.fit(X_train, y_train)\n",
        "\n",
        "y_pred = model.predict(X_test)"
      ],
      "metadata": {
        "id": "rsKgbvd_d5ai"
      },
      "execution_count": 26,
      "outputs": []
    },
    {
      "cell_type": "code",
      "source": [
        "from sklearn.metrics import accuracy_score\n",
        "print(\"Accuracy of the Model: {0}%\".format(accuracy_score(y_test, y_pred)*100))\n"
      ],
      "metadata": {
        "colab": {
          "base_uri": "https://localhost:8080/"
        },
        "id": "ot_uUl69d94K",
        "outputId": "76983aed-0aed-4a6f-8582-b6e1a88a0694"
      },
      "execution_count": 27,
      "outputs": [
        {
          "output_type": "stream",
          "name": "stdout",
          "text": [
            "Accuracy of the Model: 96.43809523809523%\n"
          ]
        }
      ]
    },
    {
      "cell_type": "code",
      "source": [
        "\n",
        "import matplotlib.pyplot as plt\n",
        "index=10\n",
        "print(\"Predicted \" + str(model.predict(X_test)[index]))\n",
        "plt.axis('off')\n",
        "plt.imshow(X_test.iloc[index].values.reshape((28,28)),cmap='gray')"
      ],
      "metadata": {
        "colab": {
          "base_uri": "https://localhost:8080/",
          "height": 441
        },
        "id": "bVJMQinheCKO",
        "outputId": "2a4104b4-aa7c-494c-c8b6-19fec5d4e68b"
      },
      "execution_count": 28,
      "outputs": [
        {
          "output_type": "stream",
          "name": "stdout",
          "text": [
            "Predicted 7\n"
          ]
        },
        {
          "output_type": "execute_result",
          "data": {
            "text/plain": [
              "<matplotlib.image.AxesImage at 0x791b43cc5210>"
            ]
          },
          "metadata": {},
          "execution_count": 28
        },
        {
          "output_type": "display_data",
          "data": {
            "text/plain": [
              "<Figure size 640x480 with 1 Axes>"
            ],
            "image/png": "[encoded data removed]"
          },
          "metadata": {}
        }
      ]
    },
    {
      "cell_type": "code",
      "source": [],
      "metadata": {
        "id": "GIbxhDEohimK"
      },
      "execution_count": null,
      "outputs": []
    }
  ]
}